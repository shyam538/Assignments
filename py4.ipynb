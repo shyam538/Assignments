{
 "cells": [
  {
   "cell_type": "markdown",
   "metadata": {},
   "source": [
    "# <center> Python Assignment 4</center>"
   ]
  },
  {
   "cell_type": "markdown",
   "metadata": {},
   "source": [
    "### 1.1 Write a Python Program(with class concepts) to find the area of the triangle using the below\n",
    "    formula: area = (s*(s-a)*(s-b)*(s-c)) ** 0.5\n",
    "    \n",
    "    a) Function to take the length of the sides of triangle from user should be defined in the parent class \n",
    "    b) Function to calculate the area should be defined in subclass."
   ]
  },
  {
   "cell_type": "code",
   "execution_count": 33,
   "metadata": {},
   "outputs": [
    {
     "name": "stdout",
     "output_type": "stream",
     "text": [
      "Area of Triange 8.181534085976786\n"
     ]
    }
   ],
   "source": [
    "class Triangle:\n",
    "    '''\n",
    "    Triangle Construction\n",
    "    '''\n",
    "    def __init__(self,a,b,c):\n",
    "        self.a = a\n",
    "        self.b = b\n",
    "        self.c = c\n",
    "    \n",
    "    def semiPeri(self):\n",
    "        return (self.a+self.b+self.c)/2\n",
    "\n",
    "class Area(Triangle):\n",
    "    '''\n",
    "    Calculate Area\n",
    "    '''\n",
    "    def __init__(self,a,b,c):\n",
    "        super().__init__(a,b,c)\n",
    "        \n",
    "    def area(self):\n",
    "        s = super().semiPeri()\n",
    "        return (s*(s-self.a)*(s-self.b)*(s-self.c)) ** 0.5\n",
    "\n",
    "if __name__ == \"__main__\":\n",
    "    t = Area(5,4,8)\n",
    "    print('Area of Triange',t.area())\n",
    "        \n",
    "        "
   ]
  },
  {
   "cell_type": "markdown",
   "metadata": {},
   "source": [
    "### 1.2 Write a function filter_long_words() that takes a list of words and an integer n and returns the list of words that are longer than n."
   ]
  },
  {
   "cell_type": "code",
   "execution_count": 17,
   "metadata": {},
   "outputs": [
    {
     "data": {
      "text/plain": [
       "['python', 'superlong']"
      ]
     },
     "execution_count": 17,
     "metadata": {},
     "output_type": "execute_result"
    }
   ],
   "source": [
    "words=['test','ab','python','data','superlong']\n",
    "\n",
    "def filter_long_words(w,n):\n",
    "    return [w[i] for i in range(len(w)) if len(w[i]) > n]\n",
    "\n",
    "filter_long_words(words,4) # Filter words where length > 4"
   ]
  },
  {
   "cell_type": "code",
   "execution_count": 18,
   "metadata": {},
   "outputs": [
    {
     "data": {
      "text/plain": [
       "['python', 'superlong']"
      ]
     },
     "execution_count": 18,
     "metadata": {},
     "output_type": "execute_result"
    }
   ],
   "source": [
    "########## Using lambda ##################\n",
    "def checkLength(n):\n",
    "    return lambda w: len(w) > n\n",
    "\n",
    "filter_long_words = checkLength(4)\n",
    "\n",
    "list(filter(filter_long_words,words))"
   ]
  },
  {
   "cell_type": "markdown",
   "metadata": {},
   "source": [
    "### 2.1 Write a Python program using function concept that maps list of words into a list of integers representing the lengths of the corresponding words.\n",
    "Hint: If a list [ ab,cde,erty] is passed on to the python function output should come as [2,3,4]\n",
    "\n",
    "Here 2,3 and 4 are the lengths of the words in the list."
   ]
  },
  {
   "cell_type": "code",
   "execution_count": 2,
   "metadata": {},
   "outputs": [
    {
     "name": "stdout",
     "output_type": "stream",
     "text": [
      "[2, 3, 4]\n"
     ]
    }
   ],
   "source": [
    "s = ['ab','cde','erty']\n",
    "\n",
    "print(list(map(lambda x: len(x),s)))\n",
    "\n",
    "# def wordLen(x):\n",
    "#     return len(x)\n",
    "\n",
    "# print(list(map(wordLen,s)))\n"
   ]
  },
  {
   "cell_type": "markdown",
   "metadata": {},
   "source": [
    "### 2.2 Write a Python function which takes a character (i.e. a string of length 1) and returns True if it is a vowel, False otherwise."
   ]
  },
  {
   "cell_type": "code",
   "execution_count": 3,
   "metadata": {},
   "outputs": [
    {
     "data": {
      "text/plain": [
       "True"
      ]
     },
     "execution_count": 3,
     "metadata": {},
     "output_type": "execute_result"
    }
   ],
   "source": [
    "def isVowel(c):\n",
    "    return c.lower() in ['a','e','i','o','u']\n",
    "\n",
    "isVowel('a')\n",
    "# isVowel('z')"
   ]
  }
 ],
 "metadata": {
  "kernelspec": {
   "display_name": "Python 3",
   "language": "python",
   "name": "python3"
  },
  "language_info": {
   "codemirror_mode": {
    "name": "ipython",
    "version": 3
   },
   "file_extension": ".py",
   "mimetype": "text/x-python",
   "name": "python",
   "nbconvert_exporter": "python",
   "pygments_lexer": "ipython3",
   "version": "3.8.5"
  }
 },
 "nbformat": 4,
 "nbformat_minor": 4
}
